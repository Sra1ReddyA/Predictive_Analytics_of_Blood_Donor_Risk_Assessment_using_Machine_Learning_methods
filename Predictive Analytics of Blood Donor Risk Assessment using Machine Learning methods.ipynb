{
 "cells": [
  {
   "cell_type": "code",
   "execution_count": 1,
   "id": "b656a471",
   "metadata": {},
   "outputs": [
    {
     "ename": "ModuleNotFoundError",
     "evalue": "No module named 'pandas'",
     "output_type": "error",
     "traceback": [
      "\u001b[1;31m---------------------------------------------------------------------------\u001b[0m",
      "\u001b[1;31mModuleNotFoundError\u001b[0m                       Traceback (most recent call last)",
      "Cell \u001b[1;32mIn [1], line 2\u001b[0m\n\u001b[0;32m      1\u001b[0m \u001b[38;5;66;03m#importing pandas and numpy and creating a reference variable bgroup to access dataset \u001b[39;00m\n\u001b[1;32m----> 2\u001b[0m \u001b[38;5;28;01mimport\u001b[39;00m \u001b[38;5;21;01mpandas\u001b[39;00m \u001b[38;5;28;01mas\u001b[39;00m \u001b[38;5;21;01mpd\u001b[39;00m\n\u001b[0;32m      3\u001b[0m \u001b[38;5;28;01mimport\u001b[39;00m \u001b[38;5;21;01mnumpy\u001b[39;00m \u001b[38;5;28;01mas\u001b[39;00m \u001b[38;5;21;01mnp\u001b[39;00m\n\u001b[0;32m      4\u001b[0m \u001b[38;5;28;01mimport\u001b[39;00m \u001b[38;5;21;01mseaborn\u001b[39;00m \u001b[38;5;28;01mas\u001b[39;00m \u001b[38;5;21;01msns\u001b[39;00m\n",
      "\u001b[1;31mModuleNotFoundError\u001b[0m: No module named 'pandas'"
     ]
    }
   ],
   "source": [
    "#importing pandas and numpy and creating a reference variable bgroup to access dataset \n",
    "import pandas as pd\n",
    "import numpy as np\n",
    "import seaborn as sns\n",
    "import matplotlib.pyplot as plt\n",
    "\n",
    "from sklearn.model_selection import train_test_split\n",
    "from sklearn.preprocessing import OneHotEncoder, StandardScaler\n",
    "from sklearn.linear_model import LogisticRegression\n",
    "from sklearn.metrics import confusion_matrix, classification_report, plot_roc_curve, auc\n",
    "\n",
    "\n",
    "df = pd.read_csv(\"C:\\\\Users\\\\avula\\\\Desktop\\\\normal\\\\mydataset.csv\")\n",
    "#display the dataset\n",
    "print(df)"
   ]
  },
  {
   "cell_type": "code",
   "execution_count": null,
   "id": "580eeed4",
   "metadata": {},
   "outputs": [],
   "source": [
    "df.shape"
   ]
  },
  {
   "cell_type": "code",
   "execution_count": null,
   "id": "7a05ecf8",
   "metadata": {},
   "outputs": [],
   "source": [
    "df.describe(include='all')"
   ]
  },
  {
   "cell_type": "code",
   "execution_count": null,
   "id": "899880dd",
   "metadata": {},
   "outputs": [],
   "source": [
    "df"
   ]
  },
  {
   "cell_type": "code",
   "execution_count": null,
   "id": "efa27e97",
   "metadata": {},
   "outputs": [],
   "source": [
    "#Displaying indexes \n",
    "df.reset_index(level=0, inplace=True)\n",
    "df"
   ]
  },
  {
   "cell_type": "code",
   "execution_count": null,
   "id": "6f850951",
   "metadata": {},
   "outputs": [],
   "source": [
    "df.drop_duplicates(subset=None, inplace=True)\n",
    "df"
   ]
  },
  {
   "cell_type": "code",
   "execution_count": null,
   "id": "f09b1bdb",
   "metadata": {},
   "outputs": [],
   "source": [
    "# Remove irrelevant columns\n",
    "dff = df[['Patient_id' , 'Recipient', 'CFF_R', 'HIV_R', 'AIDS_R', 'Risk', 'Age_R']]\n"
   ]
  },
  {
   "cell_type": "code",
   "execution_count": null,
   "id": "9b5ab3da",
   "metadata": {},
   "outputs": [],
   "source": [
    "# Split the data into training and test sets\n",
    "X = dff.drop('Risk', axis=1)\n",
    "y = dff['Risk']\n",
    "X_train, X_test, y_train, y_test = train_test_split(X, y, test_size=0.2, random_state=42)\n"
   ]
  },
  {
   "cell_type": "code",
   "execution_count": null,
   "id": "f6524314",
   "metadata": {},
   "outputs": [],
   "source": [
    "# Encode categorical variables\n",
    "encoder = OneHotEncoder()\n",
    "X_train_enc = encoder.fit_transform(X_train[['Recipient']])\n",
    "X_test_enc = encoder.transform(X_test[['Recipient']])"
   ]
  },
  {
   "cell_type": "code",
   "execution_count": null,
   "id": "41f6f537",
   "metadata": {},
   "outputs": [],
   "source": [
    "# Normalize numerical variables\n",
    "scaler = StandardScaler()\n",
    "X_train_num = scaler.fit_transform(X_train[['Age_R']])\n",
    "X_test_num = scaler.transform(X_test[['Age_R']])"
   ]
  },
  {
   "cell_type": "code",
   "execution_count": null,
   "id": "be665e20",
   "metadata": {},
   "outputs": [],
   "source": [
    "# Concatenate encoded and normalized features\n",
    "X_train_final = pd.concat([pd.DataFrame(X_train_enc.toarray()), X_train[['CFF_R', 'HIV_R', 'AIDS_R']].reset_index(drop=True), pd.DataFrame(X_train_num, columns=['Age_R'])], axis=1)\n",
    "X_test_final = pd.concat([pd.DataFrame(X_test_enc.toarray()), X_test[['CFF_R', 'HIV_R', 'AIDS_R']].reset_index(drop=True), pd.DataFrame(X_test_num, columns=['Age_R'])], axis=1)"
   ]
  },
  {
   "cell_type": "code",
   "execution_count": null,
   "id": "2fb3dcc9",
   "metadata": {},
   "outputs": [],
   "source": [
    "X_train_final"
   ]
  },
  {
   "cell_type": "code",
   "execution_count": null,
   "id": "a0604878",
   "metadata": {},
   "outputs": [],
   "source": [
    "X_test_final"
   ]
  },
  {
   "cell_type": "code",
   "execution_count": null,
   "id": "42312705",
   "metadata": {},
   "outputs": [],
   "source": [
    "# Train a logistic regression model\n",
    "model = LogisticRegression()\n",
    "model.fit(X_train_final, y_train)\n"
   ]
  },
  {
   "cell_type": "code",
   "execution_count": null,
   "id": "b8b51c30",
   "metadata": {},
   "outputs": [],
   "source": [
    "# Evaluate the model\n",
    "accuracy = model.score(X_test_final, y_test)\n",
    "print('Accuracy:', accuracy)\n"
   ]
  },
  {
   "cell_type": "code",
   "execution_count": null,
   "id": "03903731",
   "metadata": {},
   "outputs": [],
   "source": [
    "# Explore the distribution of the target variable\n",
    "sns.histplot(data=df, x='Risk', bins=20)\n",
    "plt.show()"
   ]
  },
  {
   "cell_type": "code",
   "execution_count": null,
   "id": "94b194e7",
   "metadata": {},
   "outputs": [],
   "source": [
    "# Generate a confusion matrix\n",
    "from sklearn.metrics import confusion_matrix\n",
    "y_pred = model.predict(X_test_final)\n",
    "conf_mat = confusion_matrix(y_test, y_pred)\n",
    "sns.heatmap(conf_mat, annot=True, fmt='d')\n",
    "plt.xlabel('Predicted label')\n",
    "plt.ylabel('True label')\n",
    "plt.show()"
   ]
  },
  {
   "cell_type": "code",
   "execution_count": null,
   "id": "f5782d45",
   "metadata": {},
   "outputs": [],
   "source": [
    "# Plot the ROC curve\n",
    "# plot_roc_curve(model, X_test_final, y_test)\n",
    "plt.show()"
   ]
  },
  {
   "cell_type": "code",
   "execution_count": null,
   "id": "f36c553c",
   "metadata": {},
   "outputs": [],
   "source": [
    "# Plot the feature importances\n",
    "importance = model.coef_[0]\n",
    "features = X_train_final.columns\n",
    "df_importance = pd.DataFrame({'Feature': features, 'Importance': importance})\n",
    "sns.barplot(data=df_importance, x='Importance', y='Feature')\n",
    "plt.show()"
   ]
  },
  {
   "cell_type": "code",
   "execution_count": null,
   "id": "5cc68e91",
   "metadata": {},
   "outputs": [],
   "source": [
    "# Predict the risk for the given values\n",
    "given_values = pd.DataFrame({'Recipient': ['A-'], 'CFF_R': [0], 'HIV_R': [0], 'AIDS_R': [0], 'Age_R': [30]})\n",
    "given_values_enc = encoder.transform(given_values[['Recipient']])\n",
    "given_values_num = scaler.transform(given_values[['Age_R']])\n",
    "given_values_final = pd.concat([pd.DataFrame(given_values_enc.toarray()), given_values[['CFF_R', 'HIV_R', 'AIDS_R']].reset_index(drop=True), pd.DataFrame(given_values_num, columns=['Age_R'])], axis=1)\n",
    "risk = model.predict_proba(given_values_final)[:,1][0]\n",
    "print('Risk:', risk)"
   ]
  },
  {
   "cell_type": "code",
   "execution_count": null,
   "id": "4d220072",
   "metadata": {},
   "outputs": [],
   "source": [
    "print(\"Shape of original dataset:\", dff.shape)\n",
    "print(\"Shape of test set:\", X_test.shape)"
   ]
  },
  {
   "cell_type": "code",
   "execution_count": null,
   "id": "3812b2a1",
   "metadata": {},
   "outputs": [],
   "source": [
    "# Filter the original dataset to only include relevant columns and records in X_test\n",
    "# X_test_final = df.loc[X_test.index, ['Donor', 'Recipient', 'CFF_D', 'HIV_D', 'AIDS_D', 'Risk', 'Age_D', 'Age_R', 'CFF_R', 'HIV_R', 'AIDS_R']]\n",
    "X_test_final = dff.loc[X_test.index, ['Recipient', 'Risk', 'Age_R', 'CFF_R', 'HIV_R', 'AIDS_R']]\n"
   ]
  },
  {
   "cell_type": "code",
   "execution_count": null,
   "id": "4d338f2d",
   "metadata": {},
   "outputs": [],
   "source": [
    "#Converting blood groups of Donors(Strings) into nums using lambda function \n",
    "d = {'A+':1,'A-':2,'B+':3, 'B-':4, 'AB+':5, 'AB-':6, 'O+':7, 'O-':8}\n",
    "df.Donor = [d[k] for k in df.Donor]\n",
    "df"
   ]
  },
  {
   "cell_type": "code",
   "execution_count": null,
   "id": "abb745c2",
   "metadata": {},
   "outputs": [],
   "source": [
    "#Converting blood groups of Recipient(Strings) into nums using lambda function \n",
    "e = {'A+':1,'A-':2,'B+':3, 'B-':4, 'AB+':5, 'AB-':6, 'O+':7, 'O-':8}\n",
    "df.Recipient = [e[k] for k in df.Recipient]\n",
    "df"
   ]
  },
  {
   "cell_type": "code",
   "execution_count": null,
   "id": "4ad9f5f4",
   "metadata": {},
   "outputs": [],
   "source": [
    "# create one-hot encoded version of categorical variables\n",
    "X_test_final = pd.get_dummies(X_test_final, columns=['Recipient'])\n"
   ]
  },
  {
   "cell_type": "code",
   "execution_count": null,
   "id": "61b4ace4",
   "metadata": {},
   "outputs": [],
   "source": [
    "X_train_final"
   ]
  },
  {
   "cell_type": "code",
   "execution_count": null,
   "id": "d41b0189",
   "metadata": {},
   "outputs": [],
   "source": [
    "del X_test_final[\"Risk\"]\n",
    "X_test_final"
   ]
  },
  {
   "cell_type": "code",
   "execution_count": null,
   "id": "daf38837",
   "metadata": {},
   "outputs": [],
   "source": [
    "print(test_set_sorted.columns)\n"
   ]
  },
  {
   "cell_type": "code",
   "execution_count": null,
   "id": "7e3fee57",
   "metadata": {},
   "outputs": [],
   "source": [
    "#Displaying indexes \n",
    "# test_set_sorted.reset_index(level=0, inplace=True)\n",
    "test_set_sorted"
   ]
  },
  {
   "cell_type": "code",
   "execution_count": null,
   "id": "1c1d3bce",
   "metadata": {},
   "outputs": [],
   "source": [
    "# Plot ROC curve\n",
    "# plt.plot(fpr, tpr, label='ROC curve (AUC = %0.2f)' % roc_auc)\n",
    "plt.plot([0, 1], [0, 1], 'k--')\n",
    "plt.xlim([0.0, 1.0])\n",
    "plt.ylim([0.0, 1.05])\n",
    "plt.xlabel('False Positive Rate')\n",
    "plt.ylabel('True Positive Rate')\n",
    "plt.title('Receiver operating characteristic')\n",
    "plt.legend(loc=\"lower right\")\n",
    "plt.show()"
   ]
  },
  {
   "cell_type": "code",
   "execution_count": null,
   "id": "51f9525c",
   "metadata": {},
   "outputs": [],
   "source": [
    "test_set = X_test_final.copy()\n",
    "test_set['Risk'] = y_test\n",
    "test_set['Predicted_risk'] = model.predict_proba(X_test_final)[:, 1]\n",
    "test_set_sorted = test_set.sort_values(by='Predicted_risk', ascending=True)\n",
    "patient_id_least_risk = test_set_sorted.index[0]\n",
    "print('Patient ID with least risk:', patient_id_least_risk)"
   ]
  },
  {
   "cell_type": "code",
   "execution_count": null,
   "id": "3fa39abf",
   "metadata": {},
   "outputs": [],
   "source": []
  }
 ],
 "metadata": {
  "kernelspec": {
   "display_name": "Python 3 (ipykernel)",
   "language": "python",
   "name": "python3"
  },
  "language_info": {
   "codemirror_mode": {
    "name": "ipython",
    "version": 3
   },
   "file_extension": ".py",
   "mimetype": "text/x-python",
   "name": "python",
   "nbconvert_exporter": "python",
   "pygments_lexer": "ipython3",
   "version": "3.9.15"
  }
 },
 "nbformat": 4,
 "nbformat_minor": 5
}
